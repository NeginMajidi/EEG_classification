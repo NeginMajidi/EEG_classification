{
 "cells": [
  {
   "cell_type": "code",
   "execution_count": 1,
   "metadata": {},
   "outputs": [],
   "source": [
    "import os\n",
    "import sys\n",
    "import tensorflow as tf\n",
    "import _pickle as pkl\n",
    "import numpy as np\n",
    "import matplotlib.pyplot as plt\n",
    "import tensorflow.keras.layers as layers\n",
    "import tensorflow.keras.backend as backend\n",
    "%matplotlib inline"
   ]
  },
  {
   "cell_type": "code",
   "execution_count": 2,
   "metadata": {},
   "outputs": [],
   "source": [
    "dataset = pkl.load(open('dataset.pkl', 'rb'))\n",
    "y = np.load('y_50.npy')"
   ]
  },
  {
   "cell_type": "code",
   "execution_count": 3,
   "metadata": {},
   "outputs": [],
   "source": [
    "age = 'Age6-9'\n",
    "age_patients = list(dataset[age].keys())"
   ]
  },
  {
   "cell_type": "markdown",
   "metadata": {},
   "source": [
    "## Read Data"
   ]
  },
  {
   "cell_type": "code",
   "execution_count": 4,
   "metadata": {},
   "outputs": [],
   "source": [
    "X = np.stack([dataset[age][p] for p in age_patients], 0)\n",
    "X = np.stack([X, X, X], -1)\n",
    "y = np.stack([y for p in age_patients], 0)\n",
    "del dataset"
   ]
  },
  {
   "cell_type": "code",
   "execution_count": 5,
   "metadata": {},
   "outputs": [],
   "source": [
    "train_patients = np.random.choice(len(X), int(len(age_patients) * 0.8), replace=False)\n",
    "test_patients = np.array(list(set(np.arange(len(age_patients))) - set(train_patients)))\n",
    "X_train, y_train = X[train_patients], y[train_patients]\n",
    "X_test, y_test = X[test_patients], y[test_patients]\n",
    "del X\n",
    "del y"
   ]
  },
  {
   "cell_type": "markdown",
   "metadata": {},
   "source": [
    "## Params"
   ]
  },
  {
   "cell_type": "code",
   "execution_count": 6,
   "metadata": {},
   "outputs": [],
   "source": [
    "problem = 'classification'\n",
    "learning_rate = 1e-3\n",
    "batch_size = 32\n",
    "num_epochs = 100\n",
    "epoch_size = X_train.shape[0] * X_train.shape[1] // batch_size\n",
    "if problem == 'classification':\n",
    "    num_classes = len(set(y_train.reshape(-1)))\n",
    "elif problem == 'regression':\n",
    "    num_classes = 1\n",
    "else:\n",
    "    raise ValueError('Problem type invalid!')"
   ]
  },
  {
   "cell_type": "markdown",
   "metadata": {},
   "source": [
    "## Batch generator"
   ]
  },
  {
   "cell_type": "code",
   "execution_count": 7,
   "metadata": {},
   "outputs": [],
   "source": [
    "## First preprocess func: data normalizer\n",
    "std = np.std(np.concatenate(X_train, 0), (0, -1), keepdims=True)\n",
    "mean = np.mean(np.concatenate(X_train, 0), (0, -1), keepdims=True)\n",
    "normalizer_fn = lambda x: (x - mean) / np.clip(std, 1e-12, None)\n",
    "## Second preprocess funcs: ...\n",
    "## Data generator\n",
    "def batch_generator(X, y, batch_size, preprocess_funcs=[]):\n",
    "    \n",
    "    while True:\n",
    "        batch_patients = np.random.choice(\n",
    "            len(X), batch_size, replace=True)\n",
    "        X_batch, y_batch = [], []\n",
    "        for patient in batch_patients:\n",
    "            idx = np.random.choice(len(X[patient]))\n",
    "            X_batch.append(X[patient][idx])\n",
    "            y_batch.append(y[patient][idx])\n",
    "        X_batch = np.array(X_batch)\n",
    "        for func in preprocess_funcs:\n",
    "            X_batch = func(X_batch)\n",
    "        yield np.array(X_batch), np.array(y_batch)"
   ]
  },
  {
   "cell_type": "markdown",
   "metadata": {},
   "source": [
    "## Define Model"
   ]
  },
  {
   "cell_type": "markdown",
   "metadata": {},
   "source": [
    "Reset graph"
   ]
  },
  {
   "cell_type": "code",
   "execution_count": 48,
   "metadata": {},
   "outputs": [],
   "source": [
    "tf.reset_default_graph()"
   ]
  },
  {
   "cell_type": "code",
   "execution_count": 49,
   "metadata": {},
   "outputs": [],
   "source": [
    "inp = layers.Input(shape=(111, 129, 3))\n",
    "label = layers.Input(shape=(), dtype=tf.int32)"
   ]
  },
  {
   "cell_type": "markdown",
   "metadata": {},
   "source": [
    "Example 1: Custom Network"
   ]
  },
  {
   "cell_type": "code",
   "execution_count": 50,
   "metadata": {
    "scrolled": true
   },
   "outputs": [],
   "source": [
    "x = inp\n",
    "for num_layer in range(5):\n",
    "    filters = min(256, 2**(num_layer+6))\n",
    "    x = layers.Conv2D(\n",
    "        filters=filters, kernel_size=(3,3), activation='relu', padding='same')(x)\n",
    "    x = layers.BatchNormalization()(x)\n",
    "    x = layers.Conv2D(\n",
    "        filters=filters, kernel_size=(3,3), activation='relu', padding='same')(x)\n",
    "    x = layers.BatchNormalization()(x)\n",
    "    x = layers.Conv2D(\n",
    "        filters=filters, kernel_size=(3,3), strides=(2, 2),\n",
    "        activation='relu', padding='same')(x)\n",
    "    x = layers.BatchNormalization()(x)\n",
    "pre_global_pooled = layers.Conv2D(filters=num_classes, kernel_size=(3,3))(x)\n",
    "global_pooled = layers.GlobalAveragePooling2D()(pre_global_pooled)"
   ]
  },
  {
   "cell_type": "markdown",
   "metadata": {},
   "source": [
    "Example 2: VGG"
   ]
  },
  {
   "cell_type": "code",
   "execution_count": 137,
   "metadata": {},
   "outputs": [],
   "source": [
    "from tensorflow.keras.applications import mobilenet_v2"
   ]
  },
  {
   "cell_type": "code",
   "execution_count": 138,
   "metadata": {},
   "outputs": [
    {
     "name": "stderr",
     "output_type": "stream",
     "text": [
      "/usr/lib/python3/dist-packages/keras_applications/mobilenet_v2.py:294: UserWarning: `input_shape` is undefined or non-square, or `rows` is not in [96, 128, 160, 192, 224]. Weights for input shape (224, 224) will be loaded as the default.\n",
      "  warnings.warn('`input_shape` is undefined or non-square, '\n"
     ]
    }
   ],
   "source": [
    "model = mobilenet_v2.MobileNetV2(\n",
    "    input_shape=(X_train.shape[-3:]), include_top=False, weights='imagenet')"
   ]
  },
  {
   "cell_type": "code",
   "execution_count": 139,
   "metadata": {},
   "outputs": [],
   "source": [
    "x = model(mobilenet_v2.preprocess_input(inp))\n",
    "pre_global_pooled = layers.Conv2D(filters=num_classes, kernel_size=(1, 1))(x)\n",
    "global_pooled = layers.GlobalAveragePooling2D()(pre_global_pooled)"
   ]
  },
  {
   "cell_type": "markdown",
   "metadata": {},
   "source": [
    "Define Loss and outputs"
   ]
  },
  {
   "cell_type": "code",
   "execution_count": 51,
   "metadata": {},
   "outputs": [],
   "source": [
    "if problem == 'classification':\n",
    "    logits = global_pooled\n",
    "    preds = layers.Softmax()(logits)\n",
    "    loss = tf.keras.losses.CategoricalCrossentropy(from_logits=False)(\n",
    "        y_true=tf.one_hot(label, 2), y_pred=preds)\n",
    "    predicted_label = tf.cast(tf.argmax(preds, -1), tf.int32)\n",
    "    accuracy = tf.reduce_mean(tf.cast(tf.equal(label, predicted_label), tf.float32))\n",
    "elif problem == 'regression':\n",
    "    preds = tf.squeeze(global_pooled)\n",
    "    tf.keras.losses.MeanSquaredError()(y_true=label, y_pred=preds)"
   ]
  },
  {
   "cell_type": "markdown",
   "metadata": {},
   "source": [
    "Define optimizer and training op"
   ]
  },
  {
   "cell_type": "code",
   "execution_count": 52,
   "metadata": {},
   "outputs": [],
   "source": [
    "trainable_params = tf.trainable_variables()\n",
    "## Change 'trainable_params' for the case of transfer learning\n",
    "gradient = tf.gradients(loss, trainable_params)\n",
    "optimizer = tf.keras.optimizers.Adam(learning_rate)\n",
    "optimizer_op = optimizer.apply_gradients(zip(gradient, trainable_params))"
   ]
  },
  {
   "cell_type": "markdown",
   "metadata": {},
   "source": [
    "## Session"
   ]
  },
  {
   "cell_type": "code",
   "execution_count": 53,
   "metadata": {},
   "outputs": [],
   "source": [
    "sess = tf.Session()\n",
    "intializer = tf.global_variables_initializer()"
   ]
  },
  {
   "cell_type": "markdown",
   "metadata": {},
   "source": [
    "## Run training"
   ]
  },
  {
   "cell_type": "code",
   "execution_count": 54,
   "metadata": {},
   "outputs": [],
   "source": [
    "sess.run(intializer)"
   ]
  },
  {
   "cell_type": "code",
   "execution_count": 55,
   "metadata": {},
   "outputs": [],
   "source": [
    "a = sess.run(tf.trainable_variables()[0])"
   ]
  },
  {
   "cell_type": "code",
   "execution_count": 58,
   "metadata": {},
   "outputs": [
    {
     "data": {
      "text/plain": [
       "0.13956156"
      ]
     },
     "execution_count": 58,
     "metadata": {},
     "output_type": "execute_result"
    }
   ],
   "source": [
    "b = sess.run(tf.trainable_variables()[0])\n",
    "np.linalg.norm(a - b)/np.linalg.norm(a)"
   ]
  },
  {
   "cell_type": "code",
   "execution_count": null,
   "metadata": {},
   "outputs": [],
   "source": [
    "backend.set_learning_phase(1)\n",
    "batch = batch_generator(X_train[:][:, ::50], y_train[:][:, ::50], batch_size, [normalizer_fn])\n",
    "for epoch in range(100):\n",
    "    print('Epoch {}'.format(epoch))   \n",
    "    epoch_training_loss = []\n",
    "    for iteration in range(epoch_size):\n",
    "        if iteration % (epoch_size//10) == 0:\n",
    "            print('\\b.', end='\\r')\n",
    "        X_batch, y_batch = next(batch)\n",
    "        _, batch_loss = sess.run([optimizer_op, loss], {inp: X_batch, label: y_batch})\n",
    "        epoch_training_loss.append(batch_loss)\n",
    "    print('\\nEpoch training loss {}'.format(np.mean(epoch_training_loss)))"
   ]
  },
  {
   "cell_type": "code",
   "execution_count": 46,
   "metadata": {},
   "outputs": [
    {
     "data": {
      "text/plain": [
       "([0.625], 0.375)"
      ]
     },
     "execution_count": 46,
     "metadata": {},
     "output_type": "execute_result"
    }
   ],
   "source": [
    "backend.set_learning_phase(0)\n",
    "X_batch, y_batch = next(batch)\n",
    "sess.run([accuracy], {inp: X_batch, label: y_batch}), np.mean(y_batch)"
   ]
  },
  {
   "cell_type": "code",
   "execution_count": null,
   "metadata": {},
   "outputs": [],
   "source": []
  }
 ],
 "metadata": {
  "kernelspec": {
   "display_name": "Python 3",
   "language": "python",
   "name": "python3"
  },
  "language_info": {
   "codemirror_mode": {
    "name": "ipython",
    "version": 3
   },
   "file_extension": ".py",
   "mimetype": "text/x-python",
   "name": "python",
   "nbconvert_exporter": "python",
   "pygments_lexer": "ipython3",
   "version": "3.6.9"
  }
 },
 "nbformat": 4,
 "nbformat_minor": 2
}
